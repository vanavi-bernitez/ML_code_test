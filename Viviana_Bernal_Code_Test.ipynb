{
 "cells": [
  {
   "cell_type": "code",
   "execution_count": 1,
   "id": "41135906-935b-4dd2-80c4-aa2989952a14",
   "metadata": {},
   "outputs": [],
   "source": [
    "import pandas as pd\n",
    "from sklearn.feature_extraction.text import TfidfVectorizer\n",
    "from sklearn.metrics.pairwise import cosine_similarity"
   ]
  },
  {
   "cell_type": "code",
   "execution_count": 2,
   "id": "c345284d-344f-4fc4-a01e-3806fb6afc16",
   "metadata": {},
   "outputs": [],
   "source": [
    "# Datasets loading,\n",
    "vehicles_dataset = pd.read_excel('Dataset_vehiculos.xlsx')\n",
    "fasecolda_guide_dataset = pd.read_csv('Guia_CSV_331.csv')"
   ]
  },
  {
   "cell_type": "code",
   "execution_count": 3,
   "id": "aef8fcd4-f46b-4eea-9d15-cb58a87dbcf4",
   "metadata": {},
   "outputs": [
    {
     "name": "stdout",
     "output_type": "stream",
     "text": [
      "*Vehicles Reference*\n",
      "                             REFERENCIA\n",
      "0  [3] vibrant mt 1250cc 2ab abs aa r13\n",
      "1              morning 1.1 at 1100cc aa\n",
      "2                                      \n",
      "3            jhr + mt 2700cc td 4x2 abs\n",
      "4     spice 1.4 mt 1400cc 4p abs 2ab ct\n"
     ]
    }
   ],
   "source": [
    "# Data cleaning, \n",
    "#double square brakets ensures result is still data frame and not series. Also bcs multiple columns selection\n",
    "vehicles_reference = vehicles_dataset[['REFERENCIA']]\n",
    "vehicles_reference.loc[:,'REFERENCIA'] = vehicles_reference['REFERENCIA'].str.lower().fillna('')\n",
    "print(\"*Vehicles Reference*\")\n",
    "print(vehicles_reference.head())"
   ]
  },
  {
   "cell_type": "code",
   "execution_count": 4,
   "id": "314f3f3e-614d-4ae9-a9dd-4879db5a97f5",
   "metadata": {},
   "outputs": [
    {
     "name": "stdout",
     "output_type": "stream",
     "text": [
      "*Fasecolda References Combined*\n",
      "   Codigo ReferenciaCombinada\n",
      "0  101001                2141\n",
      "1  208003            wrangler\n",
      "2  208004            wrangler\n",
      "3  206001               eagle\n",
      "4  301001                qute\n"
     ]
    }
   ],
   "source": [
    "fasecolda_references = fasecolda_guide_dataset[['Referencia1', 'Referencia2', 'Referencia3', 'Codigo']]\n",
    "fasecolda_references_combined = fasecolda_references.melt(id_vars=['Codigo'], value_name='ReferenciaCombinada').drop(columns=['variable'])\n",
    "fasecolda_references_combined.loc[:,'ReferenciaCombinada'] = fasecolda_references_combined['ReferenciaCombinada'].str.lower().fillna('')\n",
    "print(\"*Fasecolda References Combined*\")\n",
    "print(fasecolda_references_combined.head())"
   ]
  },
  {
   "cell_type": "code",
   "execution_count": 5,
   "id": "f09d7ed4-3426-40fa-8478-d49e3381cedd",
   "metadata": {},
   "outputs": [
    {
     "data": {
      "text/html": [
       "<div>\n",
       "<style scoped>\n",
       "    .dataframe tbody tr th:only-of-type {\n",
       "        vertical-align: middle;\n",
       "    }\n",
       "\n",
       "    .dataframe tbody tr th {\n",
       "        vertical-align: top;\n",
       "    }\n",
       "\n",
       "    .dataframe thead th {\n",
       "        text-align: right;\n",
       "    }\n",
       "</style>\n",
       "<table border=\"1\" class=\"dataframe\">\n",
       "  <thead>\n",
       "    <tr style=\"text-align: right;\">\n",
       "      <th></th>\n",
       "      <th>PLACA</th>\n",
       "      <th>MARCA</th>\n",
       "      <th>LINEA</th>\n",
       "      <th>REFERENCIA</th>\n",
       "      <th>Codigo_Fasecolda</th>\n",
       "      <th>Referencia_asignada</th>\n",
       "    </tr>\n",
       "  </thead>\n",
       "  <tbody>\n",
       "    <tr>\n",
       "      <th>0</th>\n",
       "      <td>1</td>\n",
       "      <td>KIA</td>\n",
       "      <td>PICANTO</td>\n",
       "      <td>[3] VIBRANT MT 1250CC 2AB ABS AA R13</td>\n",
       "      <td>4601251</td>\n",
       "      <td>NaN</td>\n",
       "    </tr>\n",
       "    <tr>\n",
       "      <th>1</th>\n",
       "      <td>2</td>\n",
       "      <td>KIA</td>\n",
       "      <td>PICANTO</td>\n",
       "      <td>MORNING 1.1 AT 1100CC AA</td>\n",
       "      <td>3201294</td>\n",
       "      <td>NaN</td>\n",
       "    </tr>\n",
       "    <tr>\n",
       "      <th>2</th>\n",
       "      <td>3</td>\n",
       "      <td>CHEVROLET</td>\n",
       "      <td>N300</td>\n",
       "      <td>NaN</td>\n",
       "      <td>101001</td>\n",
       "      <td>NaN</td>\n",
       "    </tr>\n",
       "    <tr>\n",
       "      <th>3</th>\n",
       "      <td>4</td>\n",
       "      <td>JAC</td>\n",
       "      <td>HFC1035KN</td>\n",
       "      <td>JHR + MT 2700CC TD 4X2 ABS</td>\n",
       "      <td>11311041</td>\n",
       "      <td>NaN</td>\n",
       "    </tr>\n",
       "    <tr>\n",
       "      <th>4</th>\n",
       "      <td>5</td>\n",
       "      <td>KIA</td>\n",
       "      <td>RIO UB EX</td>\n",
       "      <td>SPICE 1.4 MT 1400CC 4P ABS 2AB CT</td>\n",
       "      <td>4601149</td>\n",
       "      <td>NaN</td>\n",
       "    </tr>\n",
       "  </tbody>\n",
       "</table>\n",
       "</div>"
      ],
      "text/plain": [
       "   PLACA      MARCA      LINEA                            REFERENCIA  \\\n",
       "0      1        KIA    PICANTO  [3] VIBRANT MT 1250CC 2AB ABS AA R13   \n",
       "1      2        KIA    PICANTO              MORNING 1.1 AT 1100CC AA   \n",
       "2      3  CHEVROLET       N300                                   NaN   \n",
       "3      4        JAC  HFC1035KN            JHR + MT 2700CC TD 4X2 ABS   \n",
       "4      5        KIA  RIO UB EX     SPICE 1.4 MT 1400CC 4P ABS 2AB CT   \n",
       "\n",
       "   Codigo_Fasecolda  Referencia_asignada  \n",
       "0           4601251                  NaN  \n",
       "1           3201294                  NaN  \n",
       "2            101001                  NaN  \n",
       "3          11311041                  NaN  \n",
       "4           4601149                  NaN  "
      ]
     },
     "execution_count": 5,
     "metadata": {},
     "output_type": "execute_result"
    }
   ],
   "source": [
    "# Semantic similarity processing\n",
    "# Create TF-IDF vectorizer\n",
    "vectorizer = TfidfVectorizer().fit(pd.concat([vehicles_reference['REFERENCIA'], fasecolda_references_combined['ReferenciaCombinada']]))\n",
    "# Transform the text data into TF-IDF vectors\n",
    "vehicles_tfidf = vectorizer.transform(vehicles_reference['REFERENCIA'])\n",
    "fasecolda_tfidf = vectorizer.transform(fasecolda_references_combined['ReferenciaCombinada'])\n",
    "# Compute cosine similarity\n",
    "similarity_matrix = cosine_similarity(vehicles_tfidf, fasecolda_tfidf)\n",
    "# Find the best matches\n",
    "matches = similarity_matrix.argmax(axis=1)\n",
    "# Get the matched codes\n",
    "matched_codes = fasecolda_references_combined.iloc[matches].reset_index().set_index('index')['Codigo']\n",
    "vehicles_dataset['Codigo_Fasecolda'] = matched_codes.values\n",
    "vehicles_dataset.head()"
   ]
  },
  {
   "cell_type": "code",
   "execution_count": null,
   "id": "acf07000-17db-4ed0-abe2-3b85f06c0d02",
   "metadata": {},
   "outputs": [],
   "source": []
  }
 ],
 "metadata": {
  "kernelspec": {
   "display_name": "Python 3 (ipykernel)",
   "language": "python",
   "name": "python3"
  },
  "language_info": {
   "codemirror_mode": {
    "name": "ipython",
    "version": 3
   },
   "file_extension": ".py",
   "mimetype": "text/x-python",
   "name": "python",
   "nbconvert_exporter": "python",
   "pygments_lexer": "ipython3",
   "version": "3.12.3"
  }
 },
 "nbformat": 4,
 "nbformat_minor": 5
}
