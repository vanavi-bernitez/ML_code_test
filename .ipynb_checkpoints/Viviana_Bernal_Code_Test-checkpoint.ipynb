{
 "cells": [
  {
   "cell_type": "code",
   "execution_count": 1,
   "id": "41135906-935b-4dd2-80c4-aa2989952a14",
   "metadata": {},
   "outputs": [],
   "source": [
    "import pandas as pd\n",
    "from sklearn.feature_extraction.text import TfidfVectorizer\n",
    "from sklearn.metrics.pairwise import cosine_similarity"
   ]
  },
  {
   "cell_type": "markdown",
   "id": "58416aca-eadb-4377-a897-7e130c696711",
   "metadata": {},
   "source": [
    "### Dataset loading"
   ]
  },
  {
   "cell_type": "code",
   "execution_count": 2,
   "id": "c345284d-344f-4fc4-a01e-3806fb6afc16",
   "metadata": {},
   "outputs": [],
   "source": [
    "vehicles_dataset = pd.read_excel('Dataset_vehiculos.xlsx')\n",
    "fasecolda_guide_dataset = pd.read_csv('Guia_CSV_331.csv')"
   ]
  },
  {
   "cell_type": "markdown",
   "id": "34199b7a-a2d2-47f5-aea8-f3bc7261af5f",
   "metadata": {},
   "source": [
    "### Data cleaning"
   ]
  },
  {
   "cell_type": "code",
   "execution_count": 3,
   "id": "aef8fcd4-f46b-4eea-9d15-cb58a87dbcf4",
   "metadata": {},
   "outputs": [
    {
     "name": "stdout",
     "output_type": "stream",
     "text": [
      "*Vehicles Reference* \n",
      "\n"
     ]
    },
    {
     "data": {
      "text/html": [
       "<div>\n",
       "<style scoped>\n",
       "    .dataframe tbody tr th:only-of-type {\n",
       "        vertical-align: middle;\n",
       "    }\n",
       "\n",
       "    .dataframe tbody tr th {\n",
       "        vertical-align: top;\n",
       "    }\n",
       "\n",
       "    .dataframe thead th {\n",
       "        text-align: right;\n",
       "    }\n",
       "</style>\n",
       "<table border=\"1\" class=\"dataframe\">\n",
       "  <thead>\n",
       "    <tr style=\"text-align: right;\">\n",
       "      <th></th>\n",
       "      <th>REFERENCIA</th>\n",
       "    </tr>\n",
       "  </thead>\n",
       "  <tbody>\n",
       "    <tr>\n",
       "      <th>0</th>\n",
       "      <td>[3] vibrant mt 1250cc 2ab abs aa r13</td>\n",
       "    </tr>\n",
       "    <tr>\n",
       "      <th>1</th>\n",
       "      <td>morning 1.1 at 1100cc aa</td>\n",
       "    </tr>\n",
       "    <tr>\n",
       "      <th>2</th>\n",
       "      <td></td>\n",
       "    </tr>\n",
       "    <tr>\n",
       "      <th>3</th>\n",
       "      <td>jhr + mt 2700cc td 4x2 abs</td>\n",
       "    </tr>\n",
       "    <tr>\n",
       "      <th>4</th>\n",
       "      <td>spice 1.4 mt 1400cc 4p abs 2ab ct</td>\n",
       "    </tr>\n",
       "  </tbody>\n",
       "</table>\n",
       "</div>"
      ],
      "text/plain": [
       "                             REFERENCIA\n",
       "0  [3] vibrant mt 1250cc 2ab abs aa r13\n",
       "1              morning 1.1 at 1100cc aa\n",
       "2                                      \n",
       "3            jhr + mt 2700cc td 4x2 abs\n",
       "4     spice 1.4 mt 1400cc 4p abs 2ab ct"
      ]
     },
     "execution_count": 3,
     "metadata": {},
     "output_type": "execute_result"
    }
   ],
   "source": [
    "vehicles_reference = vehicles_dataset[['REFERENCIA']]\n",
    "vehicles_reference.loc[:,'REFERENCIA'] = vehicles_reference['REFERENCIA'].str.lower().fillna('')\n",
    "print(\"*Vehicles Reference* \\n\")\n",
    "vehicles_reference.head()"
   ]
  },
  {
   "cell_type": "code",
   "execution_count": 4,
   "id": "314f3f3e-614d-4ae9-a9dd-4879db5a97f5",
   "metadata": {
    "scrolled": true
   },
   "outputs": [
    {
     "name": "stdout",
     "output_type": "stream",
     "text": [
      "*Fasecolda References Combined* \n",
      "\n"
     ]
    },
    {
     "data": {
      "text/html": [
       "<div>\n",
       "<style scoped>\n",
       "    .dataframe tbody tr th:only-of-type {\n",
       "        vertical-align: middle;\n",
       "    }\n",
       "\n",
       "    .dataframe tbody tr th {\n",
       "        vertical-align: top;\n",
       "    }\n",
       "\n",
       "    .dataframe thead th {\n",
       "        text-align: right;\n",
       "    }\n",
       "</style>\n",
       "<table border=\"1\" class=\"dataframe\">\n",
       "  <thead>\n",
       "    <tr style=\"text-align: right;\">\n",
       "      <th></th>\n",
       "      <th>Codigo</th>\n",
       "      <th>ReferenciaCombinada</th>\n",
       "    </tr>\n",
       "  </thead>\n",
       "  <tbody>\n",
       "    <tr>\n",
       "      <th>0</th>\n",
       "      <td>101001</td>\n",
       "      <td>2141</td>\n",
       "    </tr>\n",
       "    <tr>\n",
       "      <th>1</th>\n",
       "      <td>208003</td>\n",
       "      <td>wrangler</td>\n",
       "    </tr>\n",
       "    <tr>\n",
       "      <th>2</th>\n",
       "      <td>208004</td>\n",
       "      <td>wrangler</td>\n",
       "    </tr>\n",
       "    <tr>\n",
       "      <th>3</th>\n",
       "      <td>206001</td>\n",
       "      <td>eagle</td>\n",
       "    </tr>\n",
       "    <tr>\n",
       "      <th>4</th>\n",
       "      <td>301001</td>\n",
       "      <td>qute</td>\n",
       "    </tr>\n",
       "  </tbody>\n",
       "</table>\n",
       "</div>"
      ],
      "text/plain": [
       "   Codigo ReferenciaCombinada\n",
       "0  101001                2141\n",
       "1  208003            wrangler\n",
       "2  208004            wrangler\n",
       "3  206001               eagle\n",
       "4  301001                qute"
      ]
     },
     "execution_count": 4,
     "metadata": {},
     "output_type": "execute_result"
    }
   ],
   "source": [
    "fasecolda_references = fasecolda_guide_dataset[['Referencia1', 'Referencia2', 'Referencia3', 'Codigo']]\n",
    "fasecolda_references_combined = fasecolda_references.melt(id_vars=['Codigo'], value_name='ReferenciaCombinada').drop(columns=['variable'])\n",
    "fasecolda_references_combined.loc[:,'ReferenciaCombinada'] = fasecolda_references_combined['ReferenciaCombinada'].str.lower().fillna('')\n",
    "print(\"*Fasecolda References Combined* \\n\")\n",
    "fasecolda_references_combined.head()"
   ]
  },
  {
   "cell_type": "markdown",
   "id": "3c9e3239-cc41-4976-a953-7dbf888ccb4c",
   "metadata": {},
   "source": [
    "### Semantic similarity processing\n",
    "1. TF-IDF technique\n",
    "2. Vectors for each words\n",
    "3. Cosine similarity"
   ]
  },
  {
   "cell_type": "code",
   "execution_count": 5,
   "id": "f09d7ed4-3426-40fa-8478-d49e3381cedd",
   "metadata": {},
   "outputs": [
    {
     "data": {
      "text/html": [
       "<div>\n",
       "<style scoped>\n",
       "    .dataframe tbody tr th:only-of-type {\n",
       "        vertical-align: middle;\n",
       "    }\n",
       "\n",
       "    .dataframe tbody tr th {\n",
       "        vertical-align: top;\n",
       "    }\n",
       "\n",
       "    .dataframe thead th {\n",
       "        text-align: right;\n",
       "    }\n",
       "</style>\n",
       "<table border=\"1\" class=\"dataframe\">\n",
       "  <thead>\n",
       "    <tr style=\"text-align: right;\">\n",
       "      <th></th>\n",
       "      <th>PLACA</th>\n",
       "      <th>MARCA</th>\n",
       "      <th>LINEA</th>\n",
       "      <th>REFERENCIA</th>\n",
       "      <th>Codigo_Fasecolda</th>\n",
       "      <th>Referencia_asignada</th>\n",
       "    </tr>\n",
       "  </thead>\n",
       "  <tbody>\n",
       "    <tr>\n",
       "      <th>0</th>\n",
       "      <td>1</td>\n",
       "      <td>KIA</td>\n",
       "      <td>PICANTO</td>\n",
       "      <td>[3] VIBRANT MT 1250CC 2AB ABS AA R13</td>\n",
       "      <td>4601251</td>\n",
       "      <td>NaN</td>\n",
       "    </tr>\n",
       "    <tr>\n",
       "      <th>1</th>\n",
       "      <td>2</td>\n",
       "      <td>KIA</td>\n",
       "      <td>PICANTO</td>\n",
       "      <td>MORNING 1.1 AT 1100CC AA</td>\n",
       "      <td>3201294</td>\n",
       "      <td>NaN</td>\n",
       "    </tr>\n",
       "    <tr>\n",
       "      <th>2</th>\n",
       "      <td>3</td>\n",
       "      <td>CHEVROLET</td>\n",
       "      <td>N300</td>\n",
       "      <td>NaN</td>\n",
       "      <td>101001</td>\n",
       "      <td>NaN</td>\n",
       "    </tr>\n",
       "    <tr>\n",
       "      <th>3</th>\n",
       "      <td>4</td>\n",
       "      <td>JAC</td>\n",
       "      <td>HFC1035KN</td>\n",
       "      <td>JHR + MT 2700CC TD 4X2 ABS</td>\n",
       "      <td>11311041</td>\n",
       "      <td>NaN</td>\n",
       "    </tr>\n",
       "    <tr>\n",
       "      <th>4</th>\n",
       "      <td>5</td>\n",
       "      <td>KIA</td>\n",
       "      <td>RIO UB EX</td>\n",
       "      <td>SPICE 1.4 MT 1400CC 4P ABS 2AB CT</td>\n",
       "      <td>4601149</td>\n",
       "      <td>NaN</td>\n",
       "    </tr>\n",
       "  </tbody>\n",
       "</table>\n",
       "</div>"
      ],
      "text/plain": [
       "   PLACA      MARCA      LINEA                            REFERENCIA  \\\n",
       "0      1        KIA    PICANTO  [3] VIBRANT MT 1250CC 2AB ABS AA R13   \n",
       "1      2        KIA    PICANTO              MORNING 1.1 AT 1100CC AA   \n",
       "2      3  CHEVROLET       N300                                   NaN   \n",
       "3      4        JAC  HFC1035KN            JHR + MT 2700CC TD 4X2 ABS   \n",
       "4      5        KIA  RIO UB EX     SPICE 1.4 MT 1400CC 4P ABS 2AB CT   \n",
       "\n",
       "   Codigo_Fasecolda  Referencia_asignada  \n",
       "0           4601251                  NaN  \n",
       "1           3201294                  NaN  \n",
       "2            101001                  NaN  \n",
       "3          11311041                  NaN  \n",
       "4           4601149                  NaN  "
      ]
     },
     "execution_count": 5,
     "metadata": {},
     "output_type": "execute_result"
    }
   ],
   "source": [
    "vectorizer = TfidfVectorizer().fit(pd.concat([vehicles_reference['REFERENCIA'], fasecolda_references_combined['ReferenciaCombinada']]))\n",
    "vehicles_tfidf = vectorizer.transform(vehicles_reference['REFERENCIA'])\n",
    "fasecolda_tfidf = vectorizer.transform(fasecolda_references_combined['ReferenciaCombinada'])\n",
    "similarity_matrix = cosine_similarity(vehicles_tfidf, fasecolda_tfidf)\n",
    "matches = similarity_matrix.argmax(axis=1)\n",
    "matched_codes = fasecolda_references_combined.iloc[matches].reset_index().set_index('index')['Codigo']\n",
    "vehicles_dataset['Codigo_Fasecolda'] = matched_codes.values\n",
    "vehicles_dataset.head()"
   ]
  },
  {
   "cell_type": "markdown",
   "id": "43466d0e-00ea-4a4c-81e7-928f4b1f6fd1",
   "metadata": {},
   "source": [
    "### Validating"
   ]
  },
  {
   "cell_type": "code",
   "execution_count": 7,
   "id": "ce7e1302-7ea9-41c1-af0b-e6e6b0e51c63",
   "metadata": {},
   "outputs": [
    {
     "data": {
      "text/html": [
       "<div>\n",
       "<style scoped>\n",
       "    .dataframe tbody tr th:only-of-type {\n",
       "        vertical-align: middle;\n",
       "    }\n",
       "\n",
       "    .dataframe tbody tr th {\n",
       "        vertical-align: top;\n",
       "    }\n",
       "\n",
       "    .dataframe thead th {\n",
       "        text-align: right;\n",
       "    }\n",
       "</style>\n",
       "<table border=\"1\" class=\"dataframe\">\n",
       "  <thead>\n",
       "    <tr style=\"text-align: right;\">\n",
       "      <th></th>\n",
       "      <th>PLACA</th>\n",
       "      <th>MARCA</th>\n",
       "      <th>LINEA</th>\n",
       "      <th>REFERENCIA</th>\n",
       "      <th>Codigo_Fasecolda</th>\n",
       "      <th>Referencia_asignada</th>\n",
       "      <th>Validation</th>\n",
       "    </tr>\n",
       "  </thead>\n",
       "  <tbody>\n",
       "    <tr>\n",
       "      <th>0</th>\n",
       "      <td>1</td>\n",
       "      <td>KIA</td>\n",
       "      <td>PICANTO</td>\n",
       "      <td>[3] VIBRANT MT 1250CC 2AB ABS AA R13</td>\n",
       "      <td>4601251</td>\n",
       "      <td>NaN</td>\n",
       "      <td>Yes</td>\n",
       "    </tr>\n",
       "    <tr>\n",
       "      <th>1</th>\n",
       "      <td>2</td>\n",
       "      <td>KIA</td>\n",
       "      <td>PICANTO</td>\n",
       "      <td>MORNING 1.1 AT 1100CC AA</td>\n",
       "      <td>3201294</td>\n",
       "      <td>NaN</td>\n",
       "      <td>Yes</td>\n",
       "    </tr>\n",
       "    <tr>\n",
       "      <th>2</th>\n",
       "      <td>3</td>\n",
       "      <td>CHEVROLET</td>\n",
       "      <td>N300</td>\n",
       "      <td>NaN</td>\n",
       "      <td>101001</td>\n",
       "      <td>NaN</td>\n",
       "      <td>Yes</td>\n",
       "    </tr>\n",
       "    <tr>\n",
       "      <th>3</th>\n",
       "      <td>4</td>\n",
       "      <td>JAC</td>\n",
       "      <td>HFC1035KN</td>\n",
       "      <td>JHR + MT 2700CC TD 4X2 ABS</td>\n",
       "      <td>11311041</td>\n",
       "      <td>NaN</td>\n",
       "      <td>Yes</td>\n",
       "    </tr>\n",
       "    <tr>\n",
       "      <th>4</th>\n",
       "      <td>5</td>\n",
       "      <td>KIA</td>\n",
       "      <td>RIO UB EX</td>\n",
       "      <td>SPICE 1.4 MT 1400CC 4P ABS 2AB CT</td>\n",
       "      <td>4601149</td>\n",
       "      <td>NaN</td>\n",
       "      <td>Yes</td>\n",
       "    </tr>\n",
       "  </tbody>\n",
       "</table>\n",
       "</div>"
      ],
      "text/plain": [
       "   PLACA      MARCA      LINEA                            REFERENCIA  \\\n",
       "0      1        KIA    PICANTO  [3] VIBRANT MT 1250CC 2AB ABS AA R13   \n",
       "1      2        KIA    PICANTO              MORNING 1.1 AT 1100CC AA   \n",
       "2      3  CHEVROLET       N300                                   NaN   \n",
       "3      4        JAC  HFC1035KN            JHR + MT 2700CC TD 4X2 ABS   \n",
       "4      5        KIA  RIO UB EX     SPICE 1.4 MT 1400CC 4P ABS 2AB CT   \n",
       "\n",
       "   Codigo_Fasecolda  Referencia_asignada Validation  \n",
       "0           4601251                  NaN        Yes  \n",
       "1           3201294                  NaN        Yes  \n",
       "2            101001                  NaN        Yes  \n",
       "3          11311041                  NaN        Yes  \n",
       "4           4601149                  NaN        Yes  "
      ]
     },
     "execution_count": 7,
     "metadata": {},
     "output_type": "execute_result"
    }
   ],
   "source": [
    "valid_codes = set(fasecolda_guide_dataset['Codigo'].astype(str))\n",
    "validation_results = []\n",
    "for index, row in vehicles_dataset.iterrows():\n",
    "    assigned_code = str(row['Codigo_Fasecolda'])\n",
    "    if assigned_code in valid_codes:\n",
    "        validation_results.append(\"Yes\")\n",
    "    else:\n",
    "        validation_results.append(\"No\")\n",
    "vehicles_dataset['Validation'] = validation_results\n",
    "vehicles_dataset.head()"
   ]
  },
  {
   "cell_type": "markdown",
   "id": "6da0964b-f9e5-48cf-82bb-32c7b7e1463a",
   "metadata": {},
   "source": [
    "### Dataset updating"
   ]
  },
  {
   "cell_type": "code",
   "execution_count": 8,
   "id": "acf07000-17db-4ed0-abe2-3b85f06c0d02",
   "metadata": {},
   "outputs": [],
   "source": [
    "vehicles_dataset.to_excel('vehiculos_codigo_fasecolda.xlsx', index=False)"
   ]
  },
  {
   "cell_type": "code",
   "execution_count": null,
   "id": "8b2c7797-b131-44c5-adde-6c3b3a4717c8",
   "metadata": {},
   "outputs": [],
   "source": []
  }
 ],
 "metadata": {
  "kernelspec": {
   "display_name": "Python 3 (ipykernel)",
   "language": "python",
   "name": "python3"
  },
  "language_info": {
   "codemirror_mode": {
    "name": "ipython",
    "version": 3
   },
   "file_extension": ".py",
   "mimetype": "text/x-python",
   "name": "python",
   "nbconvert_exporter": "python",
   "pygments_lexer": "ipython3",
   "version": "3.12.3"
  }
 },
 "nbformat": 4,
 "nbformat_minor": 5
}
